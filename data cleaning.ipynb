{
 "cells": [
  {
   "cell_type": "code",
   "execution_count": 2,
   "metadata": {},
   "outputs": [],
   "source": [
    "import pandas as pd"
   ]
  },
  {
   "cell_type": "markdown",
   "metadata": {},
   "source": [
    "# Corona data"
   ]
  },
  {
   "cell_type": "code",
   "execution_count": 4,
   "metadata": {},
   "outputs": [],
   "source": [
    "df = pd.read_csv('./data/timeseries-tidy.csv', low_memory=False)\n",
    "\n",
    "# subset to US\n",
    "us = df[df['country'] == 'United States']\n",
    "\n",
    "# subset to deaths\n",
    "usd = us[us['type'] == 'deaths']\n",
    "\n",
    "usdc = usd[usd['level'] == 'county']\n",
    "usdc.to_csv('usdc.csv', index = False)\n",
    "\n",
    "usds = usd[usd['level'] == 'state']\n",
    "usds.to_csv('usds.csv', index = False)\n",
    "\n",
    "# subset to cases\n",
    "usc = us[us['type'] == 'cases']\n",
    "\n",
    "uscc = usc[usc['level'] == 'county']\n",
    "uscc.to_csv('uscc.csv', index = False)\n",
    "\n",
    "uscs = usc[usc['level'] == 'state']\n",
    "uscs.to_csv('uscs.csv', index = False)"
   ]
  },
  {
   "cell_type": "code",
   "execution_count": 6,
   "metadata": {},
   "outputs": [
    {
     "data": {
      "text/plain": [
       "array(['growthFactor', 'cases', 'deaths', 'recovered', 'active', 'tested',\n",
       "       'hospitalized'], dtype=object)"
      ]
     },
     "execution_count": 6,
     "metadata": {},
     "output_type": "execute_result"
    }
   ],
   "source": [
    "usg = us[us['type'] == 'growthFactor']\n",
    "usgc = usg[usg['level'] == 'county']"
   ]
  },
  {
   "cell_type": "markdown",
   "metadata": {},
   "source": [
    "### First and total cases"
   ]
  },
  {
   "cell_type": "code",
   "execution_count": null,
   "metadata": {},
   "outputs": [],
   "source": [
    "cases = pd.read_csv('./data/uscc.csv')\n",
    "\n",
    "# total cases by county\n",
    "totc = cases.loc[:,['state', 'county', 'value']]\n",
    "totc = totd.groupby(by = ['state', 'county']).sum()\n",
    "\n",
    "totc.columns = ['cases']\n",
    "\n",
    "# First case by county\n",
    "firstc = cases[cases['value'] > 0]\n",
    "firstc = firstc.loc[:,['state', 'county', 'date', 'value']]\n",
    "\n",
    "firstc = firstc.groupby(by = ['state', 'county']).min()\n",
    "firstc.drop('value', axis = 1, inplace = True)\n",
    "firstc.columns = ['first_case']"
   ]
  },
  {
   "cell_type": "markdown",
   "metadata": {},
   "source": [
    "### First and total deaths"
   ]
  },
  {
   "cell_type": "code",
   "execution_count": 221,
   "metadata": {},
   "outputs": [],
   "source": [
    "deaths = pd.read_csv('./data/usdc.csv')\n",
    "\n",
    "# total deaths by county\n",
    "totd = deaths.loc[:,['state', 'county', 'value']]\n",
    "totd = totd.groupby(by = ['state', 'county']).sum()\n",
    "\n",
    "totd.columns = ['deaths']\n",
    "\n",
    "# First death by county\n",
    "firstd = deaths[deaths['value'] > 0]\n",
    "firstd = firstd.loc[:,['state', 'county', 'date', 'value']]\n",
    "\n",
    "firstd = firstd.groupby(by = ['state', 'county']).min()\n",
    "firstd.drop('value', axis = 1, inplace = True)\n",
    "firstd.columns = ['first_death']"
   ]
  },
  {
   "cell_type": "markdown",
   "metadata": {},
   "source": [
    "### Cases on 3-16"
   ]
  },
  {
   "cell_type": "code",
   "execution_count": null,
   "metadata": {},
   "outputs": [],
   "source": [
    "cases316 = usc[]"
   ]
  },
  {
   "cell_type": "code",
   "execution_count": 222,
   "metadata": {},
   "outputs": [],
   "source": [
    "# join cases and deaths\n",
    "cov = totc.join([firstc, totd, firstd], how = 'left')\n",
    "cov.to_csv('./data/covid.csv', index = True)"
   ]
  },
  {
   "cell_type": "markdown",
   "metadata": {},
   "source": [
    "# Lockdown data by country"
   ]
  },
  {
   "cell_type": "code",
   "execution_count": 71,
   "metadata": {},
   "outputs": [],
   "source": [
    "# read in data from the wiki\n",
    "wiki = pd.read_html('https://en.wikipedia.org/wiki/Template:2020_coronavirus_pandemic_lockdowns')\n",
    "\n",
    "# grab the lockdown table\n",
    "ld = wiki[2]\n",
    "\n",
    "# rename columns\n",
    "ld.columns= [col[1] for col in ld.columns]\n",
    "\n",
    "# export\n",
    "ld.to_csv('lockdown.csv', index = False)"
   ]
  },
  {
   "cell_type": "markdown",
   "metadata": {},
   "source": [
    "# Stayhome orders"
   ]
  },
  {
   "cell_type": "code",
   "execution_count": 327,
   "metadata": {},
   "outputs": [],
   "source": [
    "# import dictionary\n",
    "import stayhome\n",
    "\n",
    "#convert to df\n",
    "stord = stayhome.state_at_home\n",
    "stord = pd.DataFrame.from_dict(data = stord, orient='index', columns = ['stay_home_date'])\n",
    "stord.index.rename('state', inplace = True)\n",
    "\n",
    "# convert to df\n",
    "cord = stayhome.county_at_home\n",
    "cord = pd.DataFrame.from_dict(data = cord, orient='index', columns = ['state','stay_home_date'])\n",
    "cord.set_index('state', append = True, inplace = True)\n",
    "cord.index.rename(['county', 'state'], inplace=True)"
   ]
  },
  {
   "cell_type": "markdown",
   "metadata": {},
   "source": [
    "# Population"
   ]
  },
  {
   "cell_type": "code",
   "execution_count": 121,
   "metadata": {},
   "outputs": [],
   "source": [
    "pop = pd.read_csv('./data/cc-est2018-alldata.csv', encoding = 'ISO-8859-1')\n",
    "\n",
    "# subset to most recent data\n",
    "pop = pop[pop['YEAR'] == 11]\n",
    "# subset to population data\n",
    "pop = pop.iloc[:,0:8]\n",
    "# pivot so age group is a column\n",
    "pp = pop.pivot_table(index = ['STNAME', 'CTYNAME'], columns = 'AGEGRP', values = 'TOT_POP')\n",
    "\n",
    "# sum all age categories for 65+\n",
    "pp['65+'] = pp.iloc[:,14:19].sum(axis = 1, numeric_only = True)\n",
    "\n",
    "# get only population and pop over 65\n",
    "pp = pp.iloc[:,[0, -1]]\n",
    "\n",
    "# rename the index\n",
    "pp.index.rename(['state', 'county'], inplace = True)\n",
    "\n",
    "# rename the columns\n",
    "pp.columns = ['pop2018', '65plus2018']\n",
    "\n",
    "# expor\n",
    "pp.to_csv('./data/countypop.csv', index = True)"
   ]
  },
  {
   "cell_type": "code",
   "execution_count": 122,
   "metadata": {},
   "outputs": [
    {
     "data": {
      "text/html": [
       "<div>\n",
       "<style scoped>\n",
       "    .dataframe tbody tr th:only-of-type {\n",
       "        vertical-align: middle;\n",
       "    }\n",
       "\n",
       "    .dataframe tbody tr th {\n",
       "        vertical-align: top;\n",
       "    }\n",
       "\n",
       "    .dataframe thead th {\n",
       "        text-align: right;\n",
       "    }\n",
       "</style>\n",
       "<table border=\"1\" class=\"dataframe\">\n",
       "  <thead>\n",
       "    <tr style=\"text-align: right;\">\n",
       "      <th></th>\n",
       "      <th></th>\n",
       "      <th>pop2018</th>\n",
       "      <th>65plus2018</th>\n",
       "    </tr>\n",
       "    <tr>\n",
       "      <th>state</th>\n",
       "      <th>county</th>\n",
       "      <th></th>\n",
       "      <th></th>\n",
       "    </tr>\n",
       "  </thead>\n",
       "  <tbody>\n",
       "    <tr>\n",
       "      <th rowspan=\"5\" valign=\"top\">Alabama</th>\n",
       "      <th>Autauga County</th>\n",
       "      <td>55601</td>\n",
       "      <td>8653</td>\n",
       "    </tr>\n",
       "    <tr>\n",
       "      <th>Baldwin County</th>\n",
       "      <td>218022</td>\n",
       "      <td>44571</td>\n",
       "    </tr>\n",
       "    <tr>\n",
       "      <th>Barbour County</th>\n",
       "      <td>24881</td>\n",
       "      <td>4832</td>\n",
       "    </tr>\n",
       "    <tr>\n",
       "      <th>Bibb County</th>\n",
       "      <td>22400</td>\n",
       "      <td>3690</td>\n",
       "    </tr>\n",
       "    <tr>\n",
       "      <th>Blount County</th>\n",
       "      <td>57840</td>\n",
       "      <td>10548</td>\n",
       "    </tr>\n",
       "  </tbody>\n",
       "</table>\n",
       "</div>"
      ],
      "text/plain": [
       "                        pop2018  65plus2018\n",
       "state   county                             \n",
       "Alabama Autauga County    55601        8653\n",
       "        Baldwin County   218022       44571\n",
       "        Barbour County    24881        4832\n",
       "        Bibb County       22400        3690\n",
       "        Blount County     57840       10548"
      ]
     },
     "execution_count": 122,
     "metadata": {},
     "output_type": "execute_result"
    }
   ],
   "source": [
    "pp.head()"
   ]
  },
  {
   "cell_type": "markdown",
   "metadata": {},
   "source": [
    "# Pop Density"
   ]
  },
  {
   "cell_type": "code",
   "execution_count": 176,
   "metadata": {},
   "outputs": [],
   "source": [
    "# import data\n",
    "den = pd.read_csv('./data/popdensity.csv')\n",
    "# subset to columns needed\n",
    "den = den.loc[:, ['State', 'Area', '2019']]\n",
    "# rename columns\n",
    "den.columns = ['state', 'county', 'dens2019']\n",
    "# export\n",
    "den.to_csv('popdensity.csv', index=False)"
   ]
  },
  {
   "cell_type": "markdown",
   "metadata": {},
   "source": [
    "# Election"
   ]
  },
  {
   "cell_type": "code",
   "execution_count": 379,
   "metadata": {},
   "outputs": [],
   "source": [
    "# import\n",
    "el = pd.read_excel('./data/2016_election.xlsx')\n",
    "\n",
    "# get needed columns\n",
    "el = el[['State', 'County', 'Republicans 2016', 'Democrats 2016', 'Green 2016', 'Libertarians 2016', 'Poverty.Rate.below.federal.poverty.threshold', 'Adult.obesity', ]]\n",
    "\n",
    "# drop state from the county column\n",
    "el['county'] = el['county'].str.split(',', n = 1, expand=True)[0]"
   ]
  },
  {
   "cell_type": "code",
   "execution_count": 382,
   "metadata": {},
   "outputs": [
    {
     "data": {
      "text/html": [
       "<div>\n",
       "<style scoped>\n",
       "    .dataframe tbody tr th:only-of-type {\n",
       "        vertical-align: middle;\n",
       "    }\n",
       "\n",
       "    .dataframe tbody tr th {\n",
       "        vertical-align: top;\n",
       "    }\n",
       "\n",
       "    .dataframe thead th {\n",
       "        text-align: right;\n",
       "    }\n",
       "</style>\n",
       "<table border=\"1\" class=\"dataframe\">\n",
       "  <thead>\n",
       "    <tr style=\"text-align: right;\">\n",
       "      <th></th>\n",
       "      <th>state</th>\n",
       "      <th>county</th>\n",
       "      <th>r_percent</th>\n",
       "      <th>d_percent</th>\n",
       "      <th>g_percent</th>\n",
       "      <th>l_percent</th>\n",
       "      <th>poverty</th>\n",
       "      <th>obesity</th>\n",
       "    </tr>\n",
       "  </thead>\n",
       "  <tbody>\n",
       "    <tr>\n",
       "      <th>0</th>\n",
       "      <td>Minnesota</td>\n",
       "      <td>Carlton County</td>\n",
       "      <td>45.185226</td>\n",
       "      <td>46.846448</td>\n",
       "      <td>1.290215</td>\n",
       "      <td>3.892796</td>\n",
       "      <td>10.70</td>\n",
       "      <td>0.279</td>\n",
       "    </tr>\n",
       "    <tr>\n",
       "      <th>1</th>\n",
       "      <td>Kansas</td>\n",
       "      <td>Morris County</td>\n",
       "      <td>69.704050</td>\n",
       "      <td>22.819315</td>\n",
       "      <td>2.336449</td>\n",
       "      <td>5.140187</td>\n",
       "      <td>11.15</td>\n",
       "      <td>0.330</td>\n",
       "    </tr>\n",
       "    <tr>\n",
       "      <th>2</th>\n",
       "      <td>Oklahoma</td>\n",
       "      <td>Okfuskee County</td>\n",
       "      <td>70.963641</td>\n",
       "      <td>23.976608</td>\n",
       "      <td>NaN</td>\n",
       "      <td>5.059751</td>\n",
       "      <td>24.15</td>\n",
       "      <td>0.351</td>\n",
       "    </tr>\n",
       "    <tr>\n",
       "      <th>3</th>\n",
       "      <td>Montana</td>\n",
       "      <td>Roosevelt County</td>\n",
       "      <td>49.171902</td>\n",
       "      <td>42.946887</td>\n",
       "      <td>2.569960</td>\n",
       "      <td>4.854369</td>\n",
       "      <td>23.20</td>\n",
       "      <td>0.358</td>\n",
       "    </tr>\n",
       "    <tr>\n",
       "      <th>4</th>\n",
       "      <td>New York</td>\n",
       "      <td>Monroe County</td>\n",
       "      <td>40.251559</td>\n",
       "      <td>54.366825</td>\n",
       "      <td>1.548269</td>\n",
       "      <td>3.833348</td>\n",
       "      <td>13.40</td>\n",
       "      <td>0.302</td>\n",
       "    </tr>\n",
       "    <tr>\n",
       "      <th>...</th>\n",
       "      <td>...</td>\n",
       "      <td>...</td>\n",
       "      <td>...</td>\n",
       "      <td>...</td>\n",
       "      <td>...</td>\n",
       "      <td>...</td>\n",
       "      <td>...</td>\n",
       "      <td>...</td>\n",
       "    </tr>\n",
       "    <tr>\n",
       "      <th>3138</th>\n",
       "      <td>North Carolina</td>\n",
       "      <td>Caswell County</td>\n",
       "      <td>54.759867</td>\n",
       "      <td>43.262007</td>\n",
       "      <td>NaN</td>\n",
       "      <td>1.978126</td>\n",
       "      <td>21.30</td>\n",
       "      <td>0.325</td>\n",
       "    </tr>\n",
       "    <tr>\n",
       "      <th>3139</th>\n",
       "      <td>North Dakota</td>\n",
       "      <td>Nelson County</td>\n",
       "      <td>60.507674</td>\n",
       "      <td>31.641086</td>\n",
       "      <td>0.649351</td>\n",
       "      <td>6.670602</td>\n",
       "      <td>9.20</td>\n",
       "      <td>0.308</td>\n",
       "    </tr>\n",
       "    <tr>\n",
       "      <th>3140</th>\n",
       "      <td>South Carolina</td>\n",
       "      <td>Greenville County</td>\n",
       "      <td>59.362770</td>\n",
       "      <td>34.663377</td>\n",
       "      <td>0.693381</td>\n",
       "      <td>3.024502</td>\n",
       "      <td>13.95</td>\n",
       "      <td>0.298</td>\n",
       "    </tr>\n",
       "    <tr>\n",
       "      <th>3141</th>\n",
       "      <td>Texas</td>\n",
       "      <td>Briscoe County</td>\n",
       "      <td>85.149864</td>\n",
       "      <td>12.397820</td>\n",
       "      <td>0.544959</td>\n",
       "      <td>1.907357</td>\n",
       "      <td>22.10</td>\n",
       "      <td>0.288</td>\n",
       "    </tr>\n",
       "    <tr>\n",
       "      <th>3142</th>\n",
       "      <td>Kansas</td>\n",
       "      <td>Lyon County</td>\n",
       "      <td>54.099617</td>\n",
       "      <td>37.939549</td>\n",
       "      <td>2.656450</td>\n",
       "      <td>5.304385</td>\n",
       "      <td>22.35</td>\n",
       "      <td>0.323</td>\n",
       "    </tr>\n",
       "  </tbody>\n",
       "</table>\n",
       "<p>3143 rows × 8 columns</p>\n",
       "</div>"
      ],
      "text/plain": [
       "               state             county  r_percent  d_percent  g_percent  \\\n",
       "0          Minnesota     Carlton County  45.185226  46.846448   1.290215   \n",
       "1             Kansas      Morris County  69.704050  22.819315   2.336449   \n",
       "2           Oklahoma    Okfuskee County  70.963641  23.976608        NaN   \n",
       "3            Montana   Roosevelt County  49.171902  42.946887   2.569960   \n",
       "4           New York      Monroe County  40.251559  54.366825   1.548269   \n",
       "...              ...                ...        ...        ...        ...   \n",
       "3138  North Carolina     Caswell County  54.759867  43.262007        NaN   \n",
       "3139    North Dakota      Nelson County  60.507674  31.641086   0.649351   \n",
       "3140  South Carolina  Greenville County  59.362770  34.663377   0.693381   \n",
       "3141           Texas     Briscoe County  85.149864  12.397820   0.544959   \n",
       "3142          Kansas        Lyon County  54.099617  37.939549   2.656450   \n",
       "\n",
       "      l_percent  poverty  obesity  \n",
       "0      3.892796    10.70    0.279  \n",
       "1      5.140187    11.15    0.330  \n",
       "2      5.059751    24.15    0.351  \n",
       "3      4.854369    23.20    0.358  \n",
       "4      3.833348    13.40    0.302  \n",
       "...         ...      ...      ...  \n",
       "3138   1.978126    21.30    0.325  \n",
       "3139   6.670602     9.20    0.308  \n",
       "3140   3.024502    13.95    0.298  \n",
       "3141   1.907357    22.10    0.288  \n",
       "3142   5.304385    22.35    0.323  \n",
       "\n",
       "[3143 rows x 8 columns]"
      ]
     },
     "execution_count": 382,
     "metadata": {},
     "output_type": "execute_result"
    }
   ],
   "source": [
    "el"
   ]
  },
  {
   "cell_type": "markdown",
   "metadata": {},
   "source": [
    "# Merge data sources"
   ]
  },
  {
   "cell_type": "code",
   "execution_count": 387,
   "metadata": {},
   "outputs": [],
   "source": [
    "# join population and population density\n",
    "ppd = pp.join(den.set_index(['state', 'county']), on = ['state', 'county'], how = 'left')\n",
    "\n",
    "# join population and covid data\n",
    "ppdc = ppd.join(cov, how = 'left')\n",
    "\n",
    "ppdc = ppdc.reset_index()\n",
    "ppdc = ppdc.merge(stord, how = 'left', on = 'state')\n",
    "\n",
    "ppdcv = ppdc.set_index(['state', 'county']).join(el.set_index(['state', 'county']), how = 'left')\n",
    "\n",
    "ppdcv.to_csv('covid_county.csv', index = True)"
   ]
  }
 ],
 "metadata": {
  "kernelspec": {
   "display_name": "Python 3",
   "language": "python",
   "name": "python3"
  },
  "language_info": {
   "codemirror_mode": {
    "name": "ipython",
    "version": 3
   },
   "file_extension": ".py",
   "mimetype": "text/x-python",
   "name": "python",
   "nbconvert_exporter": "python",
   "pygments_lexer": "ipython3",
   "version": "3.8.2"
  }
 },
 "nbformat": 4,
 "nbformat_minor": 4
}
